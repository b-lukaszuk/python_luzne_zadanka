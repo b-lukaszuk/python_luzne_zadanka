{
 "cells": [
  {
   "cell_type": "markdown",
   "metadata": {
    "collapsed": false
   },
   "source": [
    "# Chapter 4. Theoretical Distributions"
   ]
  },
  {
   "cell_type": "markdown",
   "metadata": {
    "collapsed": false
   },
   "source": [
    "## Imports"
   ]
  },
  {
   "cell_type": "code",
   "execution_count": null,
   "metadata": {
    "collapsed": false
   },
   "outputs": [],
   "source": [
    "import math\n",
    "import numpy as np\n",
    "from scipy.stats import norm, binom\n",
    "from typing import Dict, List, Tuple"
   ]
  },
  {
   "cell_type": "markdown",
   "metadata": {
    "collapsed": false
   },
   "source": [
    "# Warning regarding solutions"
   ]
  },
  {
   "cell_type": "markdown",
   "metadata": {
    "collapsed": false
   },
   "source": [
    "NO GUARANTEE THAT THE SOLUTIONS WILL WORK OR WORK CORRECTLY! USE THEM AT YOUR OWN RISK!\n",
    "\n",
    "THE ANSWERS PROVIDED BELOW MAY BE WRONG. USE THEM AT YOUR OWN RISK!"
   ]
  },
  {
   "cell_type": "markdown",
   "metadata": {
    "collapsed": false
   },
   "source": [
    "## Exercises"
   ]
  },
  {
   "cell_type": "markdown",
   "metadata": {
    "collapsed": false
   },
   "source": [
    "### Exercise 4.1"
   ]
  },
  {
   "cell_type": "markdown",
   "metadata": {
    "collapsed": false
   },
   "source": [
    "Assuming that the height of adult males has a Normal distribution,\n",
    "what proportion of males will be more than two standard deviations\n",
    "above the mean height?"
   ]
  },
  {
   "cell_type": "markdown",
   "metadata": {
    "collapsed": false
   },
   "source": [
    "#### Ex 4.1. Solution with scipy"
   ]
  },
  {
   "cell_type": "code",
   "execution_count": null,
   "metadata": {
    "collapsed": false
   },
   "outputs": [],
   "source": [
    "1 - norm.cdf(x=2, loc=0, scale=1)"
   ]
  },
  {
   "attachments": {},
   "cell_type": "markdown",
   "metadata": {
    "collapsed": false
   },
   "source": [
    "#### Answer to Exercise 4.1"
   ]
  },
  {
   "cell_type": "markdown",
   "metadata": {
    "collapsed": false
   },
   "source": [
    "Approximatelly 0.02275013194817921 or approx. 2.3% of men."
   ]
  },
  {
   "cell_type": "markdown",
   "metadata": {
    "collapsed": false
   },
   "source": [
    "### Exercise 4.2"
   ]
  },
  {
   "cell_type": "markdown",
   "metadata": {
    "collapsed": false
   },
   "source": [
    "The probability of being blood group B is 0.08. What is the\n",
    "probability that if one pint of blood is taken from each of\n",
    "100 unrelated blood donors fewer than three pints of group B blood will be obtained?"
   ]
  },
  {
   "cell_type": "markdown",
   "metadata": {
    "collapsed": false
   },
   "source": [
    "#### Ex. 4.2. Solution with scipy"
   ]
  },
  {
   "cell_type": "code",
   "execution_count": null,
   "metadata": {
    "collapsed": false
   },
   "outputs": [],
   "source": [
    "binom.cdf(k=2, n=100, p=0.08)"
   ]
  },
  {
   "cell_type": "markdown",
   "metadata": {
    "collapsed": false
   },
   "source": [
    "#### Ex. 4.2. Solution by running n simulations"
   ]
  },
  {
   "cell_type": "code",
   "execution_count": null,
   "metadata": {
    "collapsed": false
   },
   "outputs": [],
   "source": [
    "def get_n_blood_pints(n: int = 100) -> np.ndarray:\n",
    "    # 0 - blood group B, 1 - other blood group\n",
    "    return np.random.choice(\n",
    "        a=np.repeat(a=[0, 1], repeats=[8, 92]),\n",
    "        size=n, replace=True)"
   ]
  },
  {
   "cell_type": "code",
   "execution_count": null,
   "metadata": {
    "collapsed": false
   },
   "outputs": [],
   "source": [
    "def get_counts(vector: np.ndarray) -> Dict[int, int]:\n",
    "    uniques, counts = np.unique(vector, return_counts=True)\n",
    "    return {k: v for (k, v) in zip(uniques, counts)}"
   ]
  },
  {
   "cell_type": "code",
   "execution_count": null,
   "metadata": {
    "collapsed": false
   },
   "outputs": [],
   "source": [
    "def is_gr_b_found(less_than: int = 3) -> bool:\n",
    "    return get_counts(get_n_blood_pints()).get(0, 0) < less_than"
   ]
  },
  {
   "cell_type": "code",
   "execution_count": null,
   "metadata": {
    "collapsed": false
   },
   "outputs": [],
   "source": [
    "def get_n_simulations_for_gr_b(n_simuls: int = 1000) -> List[bool]:\n",
    "    return [is_gr_b_found() for _ in range(n_simuls)]"
   ]
  },
  {
   "cell_type": "code",
   "execution_count": null,
   "metadata": {
    "collapsed": false
   },
   "outputs": [],
   "source": [
    "def get_probability_of_gr_b(n_simuls: int = 10_000) -> float:\n",
    "    return np.mean(np.array(get_n_simulations_for_gr_b(n_simuls)))"
   ]
  },
  {
   "cell_type": "code",
   "execution_count": null,
   "metadata": {
    "collapsed": false
   },
   "outputs": [],
   "source": [
    "get_probability_of_gr_b()"
   ]
  },
  {
   "attachments": {},
   "cell_type": "markdown",
   "metadata": {
    "collapsed": false
   },
   "source": [
    "#### Answer to Exercise 4.2"
   ]
  },
  {
   "cell_type": "markdown",
   "metadata": {
    "collapsed": false
   },
   "source": [
    "The probability is around 0.01 or 1%"
   ]
  },
  {
   "cell_type": "markdown",
   "metadata": {
    "collapsed": false
   },
   "source": [
    "### Exercise 4.3"
   ]
  },
  {
   "cell_type": "markdown",
   "metadata": {
    "collapsed": false
   },
   "source": [
    "The probability of a baby being a boy is 0.52.\n",
    "For six women delivering consecutively in the same labour ward on one day,\n",
    "which of the following exact sequences of boys and girls is most likely and which least likely?\n",
    "\n",
    "GBGBGB\n",
    "BBBGGG\n",
    "GBBBBB"
   ]
  },
  {
   "cell_type": "code",
   "execution_count": null,
   "metadata": {
    "collapsed": false
   },
   "outputs": [],
   "source": [
    "births_seqs: np.ndarray = np.array([\"GBGBGB\", \"BBBGGG\", \"GBBBBB\"])"
   ]
  },
  {
   "attachments": {},
   "cell_type": "markdown",
   "metadata": {
    "collapsed": false
   },
   "source": [
    "#### Ex 4.3 Solution with mathematical calculations"
   ]
  },
  {
   "cell_type": "code",
   "execution_count": null,
   "metadata": {},
   "outputs": [],
   "source": [
    "def get_prob_of_birth_seq(birth_seq: str) -> np.float64:\n",
    "    return np.prod([0.52 if b == \"B\" else 0.48 for b in birth_seq])"
   ]
  },
  {
   "cell_type": "code",
   "execution_count": null,
   "metadata": {
    "collapsed": false
   },
   "outputs": [],
   "source": [
    "births_seqs_probs1: List[Tuple[float, str]] = [(get_prob_of_birth_seq(bs), bs) for bs in births_seqs]"
   ]
  },
  {
   "attachments": {},
   "cell_type": "markdown",
   "metadata": {},
   "source": [
    "#### Ex. 4.3 Solution with computer simulation"
   ]
  },
  {
   "cell_type": "code",
   "execution_count": null,
   "metadata": {
    "collapsed": false
   },
   "outputs": [],
   "source": [
    "def get_births_seq(how_many: int = 6) -> str:\n",
    "    births: np.ndarray = np.random.choice(\n",
    "        a = [\"G\", \"B\"], size=how_many, replace=True, p = [0.48, 0.52])\n",
    "    return \"\".join(births)"
   ]
  },
  {
   "cell_type": "code",
   "execution_count": null,
   "metadata": {},
   "outputs": [],
   "source": [
    "def get_n_birth_seqs(n: int = 100_000) -> np.ndarray:\n",
    "    return np.array([get_births_seq() for _ in range(n)])"
   ]
  },
  {
   "cell_type": "code",
   "execution_count": null,
   "metadata": {},
   "outputs": [],
   "source": [
    "rand_birth_seqs: np.ndarray = get_n_birth_seqs()\n",
    "rand_births_counts: Dict[str, int] = {k: v for (k, v) in zip(*np.unique(rand_birth_seqs, return_counts=True))}\n",
    "rand_births_probs: Dict[str, float] = {k: rand_births_counts.get(k, 0) / rand_birth_seqs.size for k in rand_births_counts}"
   ]
  },
  {
   "cell_type": "code",
   "execution_count": null,
   "metadata": {},
   "outputs": [],
   "source": [
    "births_seqs_probs2: List[Tuple[float, str]] = [(rand_births_probs.get(bs, 0), bs) for bs in births_seqs]"
   ]
  },
  {
   "cell_type": "markdown",
   "metadata": {},
   "source": [
    "#### Answer to Ex. 4.3"
   ]
  },
  {
   "attachments": {},
   "cell_type": "markdown",
   "metadata": {},
   "source": [
    "Assumming the exact order of births and the exact sex of the children (where p for B: 0.52, and for G: 0.48) we got:\n",
    "\n",
    "According to mathematical calculations the probabilities are:\n",
    "- (0.015550119935999997, 'GBGBGB')\n",
    "- (0.015550119935999997, 'BBBGGG')\n",
    "- (0.018249793536, 'GBBBBB')\n",
    "\n",
    " According to simulation [100'000 random birth sequences generated] the probabilities are:\n",
    "- (0.01573, 'GBGBGB')\n",
    "- (0.01541, 'BBBGGG')\n",
    "- (0.01852, 'GBBBBB')"
   ]
  },
  {
   "attachments": {},
   "cell_type": "markdown",
   "metadata": {},
   "source": [
    "### Exercise 4.4\n",
    "\n",
    "The Binomial distribution with p = 0.15 and n = 10\n",
    "\n",
    "(a) \n",
    "\n",
    "If 15% of all pregnancies result in miscarriages,\n",
    "what is the probability that more than half of a group of ten pregnant women will have a miscarriage?\n",
    "\n",
    "(b)\n",
    "\n",
    "Among groups of users of video display terminals there are 20'000 large enough for ten women to become pregnant in one year. If we call six or more miscarriages out of 10 a 'cluster', how many clusters would we expect in one year, assuming that there is no increased risk of miscarriage associated with using a terminal? (Based on Blackwell and Chang, 1988)\n",
    "\n",
    "#### My Comments to Ex 4.4\n",
    "\n",
    "Not sure how should I understand the Ex4.4b task, especially the phase '...there are 20'000 large enought for ten women to become pregnant in one year.'\n",
    "I just assume that those 20'000 of women get pregnant, and determine how many 'clusters' (>=6 out of 10) I can expect there."
   ]
  },
  {
   "attachments": {},
   "cell_type": "markdown",
   "metadata": {},
   "source": [
    "#### Ex. 4.4a Solution with scipy"
   ]
  },
  {
   "cell_type": "code",
   "execution_count": null,
   "metadata": {},
   "outputs": [],
   "source": [
    "prob_miscar1: np.float64 = binom.cdf(k=4, n=10, p=1-0.15)"
   ]
  },
  {
   "attachments": {},
   "cell_type": "markdown",
   "metadata": {},
   "source": [
    "#### Ex. 4.4a Solution with compouter simulation"
   ]
  },
  {
   "cell_type": "code",
   "execution_count": null,
   "metadata": {},
   "outputs": [],
   "source": [
    "# 0 - birth, 1 - miscarage\n",
    "def get_n_miscarriages(n: int) -> np.ndarray:\n",
    "    return np.random.choice(a=[0, 1], size=n, replace=True, p=[0.85, 0.15])"
   ]
  },
  {
   "cell_type": "code",
   "execution_count": null,
   "metadata": {},
   "outputs": [],
   "source": [
    "def is_more_than_k_miscarriages(n_of_births: int, k: int) -> bool:\n",
    "    births: np.ndarray = get_n_miscarriages(n_of_births)\n",
    "    return sum(births) > k"
   ]
  },
  {
   "cell_type": "code",
   "execution_count": null,
   "metadata": {},
   "outputs": [],
   "source": [
    "prob_miscar2: np.float64 = np.mean(\n",
    "    np.array(\n",
    "        [is_more_than_k_miscarriages(10, 5) for _ in range(10_0000)])\n",
    ")"
   ]
  },
  {
   "attachments": {},
   "cell_type": "markdown",
   "metadata": {},
   "source": [
    "#### Answer to Ex 4.4a"
   ]
  },
  {
   "attachments": {},
   "cell_type": "markdown",
   "metadata": {},
   "source": [
    "Probability of more than 5 miscarages out of 10 births:\n",
    "- calculated with scipy, p = 0.0013832352123046884\n",
    "- estimated with computer simulation, p = 0.00124"
   ]
  },
  {
   "cell_type": "markdown",
   "metadata": {},
   "source": [
    "#### Solution to Ex4.4b using scipy"
   ]
  },
  {
   "cell_type": "code",
   "execution_count": null,
   "metadata": {},
   "outputs": [],
   "source": [
    "expected_n_of_misc_clusters1: np.float64 = prob_miscar1 * 20_000 / 10\n"
   ]
  },
  {
   "cell_type": "markdown",
   "metadata": {},
   "source": [
    "#### Solution to Ex4.4b using computer simulation"
   ]
  },
  {
   "cell_type": "code",
   "execution_count": null,
   "metadata": {},
   "outputs": [],
   "source": [
    "# execution time around 8 secs on my laptop\n",
    "expected_n_of_misc_clusters2: np.float64 = prob_miscar2 * 20_000 / 10"
   ]
  },
  {
   "attachments": {},
   "cell_type": "markdown",
   "metadata": {},
   "source": [
    "#### Answer to Ex4.4b\n",
    "\n",
    "Assuming 20'000 of women gives birth to children, and probability of miscarriage = 0.15 we would expect:\n",
    "- 2.76647 (according to mathematical calculations)\n",
    "- 2.48 (according to computer simulation)\n",
    "miscarriage clusters (>=6 miscarriages out of 10 births)\n",
    "\n",
    "So in practice 2 or 3 of such clusters are expected to be found.\n"
   ]
  },
  {
   "attachments": {},
   "cell_type": "markdown",
   "metadata": {},
   "source": [
    "### Exercise 4.5\n",
    "\n",
    "If an infection is present in a school it would be expected to spread to 10% of the children\n",
    "\n",
    "(a) How many children should be tested to have a probability of 0.95 (95%) of detecting the infection if it is there? (Hint: consider the probability of all the children in the sample being negative to the test if the infection is present in the school.)\n",
    "\n",
    "(b) What is the effect of the number of children in the school on this calculation?"
   ]
  },
  {
   "attachments": {},
   "cell_type": "markdown",
   "metadata": {},
   "source": [
    "#### Ex. 4.5a Solution with mathematical calculations "
   ]
  },
  {
   "cell_type": "code",
   "execution_count": null,
   "metadata": {},
   "outputs": [],
   "source": [
    "# 0.1 - probability of being sick, 0.9 probability of being healthy\n",
    "# so I need to find x in: 0.9^x = 0.05 (5% probability that all kids are healthy)\n",
    "# so I look for log base 0.9 of 0.05 is x\n",
    "math.log(0.05, 0.9)   "
   ]
  },
  {
   "attachments": {},
   "cell_type": "markdown",
   "metadata": {},
   "source": [
    "#### Ex. 4.5a Answer\n",
    "\n",
    "It takes 28.43315880574342 children.\n",
    "\n",
    "So, one needs to test 28 or 29 children to have 95% probability to find such an infection."
   ]
  },
  {
   "attachments": {},
   "cell_type": "markdown",
   "metadata": {},
   "source": [
    "#### Ex. 4.5b Answer\n",
    "\n",
    "Not sure, I guess You need to have enough children in the school to take the sample of 28 or 29 children.\n",
    "\n",
    "Except for that notion number of children will not influence the answer to Ex. 4.5a\n",
    "\n",
    "(If it doesn't affect the spread of the disease)"
   ]
  },
  {
   "attachments": {},
   "cell_type": "markdown",
   "metadata": {},
   "source": [
    "### Exercise 4.6\n",
    "\n",
    "Over a 25 year period the mean height of adult males increased from 175.8 cm to 179.1 cm, but the standard deviations stayed at 5.84 cm. The minimum height requrement for men to join the police force is 172 cm. What proportion of men would be too short to become policemen at the beginning and end of the 25 year period, assuming that the height of adult males ahs a Normal distribution?"
   ]
  },
  {
   "cell_type": "code",
   "execution_count": null,
   "metadata": {},
   "outputs": [],
   "source": [
    "norm.cdf(x=172, loc=175.8, scale=5.84)"
   ]
  },
  {
   "cell_type": "code",
   "execution_count": null,
   "metadata": {},
   "outputs": [],
   "source": [
    "norm.cdf(x=172, loc=179.1, scale=5.84)"
   ]
  },
  {
   "attachments": {},
   "cell_type": "markdown",
   "metadata": {},
   "source": [
    "#### Ex. 4.6. Answer\n",
    "\n",
    "At the beginning of the 25 year period approx. 25.8% of men were too short to become policemen.\n",
    "\n",
    "At the end of the 25 year period approx. 11.2% of men were too short to become policemen."
   ]
  },
  {
   "attachments": {},
   "cell_type": "markdown",
   "metadata": {},
   "source": [
    "### Exercise 4.7\n",
    "\n",
    "A researcher plans to measure blood pressure in a number of subjects. He proposes to take three measurements, but intends to discard the third measurement as unreliable if it does not fall between the first two measurements. Assuming that the subjects' blood pressure stays constant during the measuring, what is the probability that for a given subject the third value will not lie between the other two? (Hint: the answer does not depend upon the variability of blood pressure measurements.) Comment on the researcher's proposal."
   ]
  },
  {
   "attachments": {},
   "cell_type": "markdown",
   "metadata": {},
   "source": [
    "#### Ex 4.7 My Notes/Answer\n",
    "\n",
    "Not sure I understand the question.\n",
    "\n",
    "So the blood pressure is constant during all 3 measurements? And the different values obtained during the measurement are a result of imprecise reading of the measuring device (or a person that uses it) or because of some other unspecified but random factors?\n",
    "\n",
    "Hmm, if so then I should assume that I will always get three separate values (and not e.g. 3x the exact same value)? The values will be randomly dispersed within some small distance around the true blood pressure value?\n",
    "\n",
    "Hmm, So I got 2 values, the third can be:\n",
    "- a) lower than the lowest of the two\n",
    "- b) higher than the highest of the two\n",
    "- c) inbetween the two previous values\n",
    "So, 1 out of 3, therefore p = 1/3 = 0.33 = 33%"
   ]
  },
  {
   "attachments": {},
   "cell_type": "markdown",
   "metadata": {},
   "source": [
    "### Exercise 4.8\n",
    "\n",
    "In Britain the commonest autosomal recessive disorder is cystic fibrosis, with about one in 2000 live births being affected. If both parents are heterozygous for the abnormal gene there is a 1 in 4 chance of their child having cystic fibrosis.\n",
    "\n",
    "(a) What is the probability that a couple who are both heterozygous will have two unaffected children?\n",
    "\n",
    "(b) If they have four unaffected children, what is the probability that their fifth child would be unaffected?\n",
    "\n",
    "(c) About one in 22 people is heterozygous for cystic fibrosis. In a hospital where there are 3500 births a year, what is the expected number of babies per year affected by cystic fibrosis (assuming that there is no genetic counselling)?"
   ]
  },
  {
   "attachments": {},
   "cell_type": "markdown",
   "metadata": {},
   "source": [
    "#### Ex. 4.8a Solution"
   ]
  },
  {
   "cell_type": "code",
   "execution_count": null,
   "metadata": {},
   "outputs": [],
   "source": [
    "# p - that 1 children is unaffected 0.75, so for two children (one healthy AND other healthy) 0.75 * 0.75 = 0.5625\n",
    "# let's check it with scipy\n",
    "binom.pmf(k=2, n=2, p=0.75)\n",
    "#dst.pdf(dst.Binomial(2, 0.75), 2)\n",
    "     "
   ]
  },
  {
   "attachments": {},
   "cell_type": "markdown",
   "metadata": {},
   "source": [
    "#### Ex 4.8a Answer\n",
    "\n",
    "If two parents are heterozygous (Cc x Cc) then the probability that two of their children are healthy is equal to 0.5625."
   ]
  },
  {
   "attachments": {},
   "cell_type": "markdown",
   "metadata": {},
   "source": [
    "#### Ex. 4.8b Answer\n",
    "\n",
    "Not sure how to understand \"If they have four unaffected children\"? Who are \"they\"?\n",
    "\n",
    "I assume those are the heterozygous parents from Ex. 4.8a, if so:\n",
    "\n",
    "the probability that a fifth child is healthy is p = 0.75.\n",
    "Reason: any given child got probability of 0.75 of being healthy.\n",
    "\n",
    "It is like tossing a coin, it has no memory effect, so the result of one throw does not affect the result of the next throw."
   ]
  },
  {
   "attachments": {},
   "cell_type": "markdown",
   "metadata": {},
   "source": [
    "#### Ex. 4.8c Answer\n",
    "\n",
    "The description of Ex 4.8c tells only about frequency of heterozygous people in the population.\n",
    "\n",
    "Therefore I guess I should assume that the people with cystic fibrosis (cc x cc) do not have children.\n",
    "\n",
    "If so then two heterozygous parents meet at random (Cc x Cc), so 1/22 * 1/22 and the probability of their child having cystic fibrosis is 1/4.\n",
    "\n",
    "Therefore the probability is 1/22 * 1/22 * 1/4 = 0.00051652\n",
    "\n",
    "And the expected value is p * 3500 = 1.81 children"
   ]
  }
 ],
 "metadata": {
  "kernelspec": {
   "argv": [
    "python",
    "-m",
    "ipykernel_launcher",
    "-f",
    "{connection_file}"
   ],
   "display_name": "Python 3",
   "env": null,
   "interrupt_mode": "signal",
   "language": "python",
   "metadata": null,
   "name": "python3"
  },
  "language_info": {
   "codemirror_mode": {
    "name": "ipython",
    "version": 3
   },
   "file_extension": ".py",
   "mimetype": "text/x-python",
   "name": "python",
   "nbconvert_exporter": "python",
   "pygments_lexer": "ipython3",
   "version": "3.8.10"
  },
  "name": "ch04.ipynb",
  "vscode": {
   "interpreter": {
    "hash": "31f2aee4e71d21fbe5cf8b01ff0e069b9275f58929596ceb00d14d90e3e16cd6"
   }
  }
 },
 "nbformat": 4,
 "nbformat_minor": 2
}
