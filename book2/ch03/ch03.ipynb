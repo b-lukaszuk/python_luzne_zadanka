{
 "cells": [
  {
   "cell_type": "markdown",
   "metadata": {},
   "source": [
    "# Chapter 3. Describing Data"
   ]
  },
  {
   "cell_type": "markdown",
   "metadata": {},
   "source": [
    "## Imports"
   ]
  },
  {
   "cell_type": "code",
   "execution_count": null,
   "metadata": {},
   "outputs": [],
   "source": [
    "import matplotlib.pyplot as plt\n",
    "import numpy as np\n",
    "import pandas as pd\n",
    "import seaborn as sns\n",
    "from typing import List"
   ]
  },
  {
   "cell_type": "markdown",
   "metadata": {},
   "source": [
    "## Table 3.1"
   ]
  },
  {
   "cell_type": "code",
   "execution_count": null,
   "metadata": {},
   "outputs": [],
   "source": [
    "# table 3.1\n",
    "tab31: pd.DataFrame = pd.DataFrame(\n",
    "    {\"age\": [7,7,8,8,8,9,11,12,12,13,13,14,14,15,16,17,17, 17,17,19,19,20,23,23,23], \n",
    "    \"pi_max\": [80, 85,110,95,95,100,45,95,130,75,80,70,80, 100,120,110,125,75,100,40,75,110,150,75,95]})\n",
    "tab31.head(5)"
   ]
  },
  {
   "cell_type": "markdown",
   "metadata": {},
   "source": [
    "## Figure 3.15"
   ]
  },
  {
   "cell_type": "code",
   "execution_count": null,
   "metadata": {},
   "outputs": [],
   "source": [
    "sns.scatterplot(data=tab31, x=\"age\", y=\"pi_max\", s=100, color=\"lightblue\", legend=False)\n",
    "plt.xlim((5, 25))\n",
    "plt.title(\"Fig. 3.15. Scatter diagram of PImax by age\")\n",
    "plt.xlabel(\"Age [years]\")\n",
    "plt.ylabel(\"PImax [cm $H_20$]\")\n",
    "plt.show()"
   ]
  },
  {
   "cell_type": "markdown",
   "metadata": {},
   "source": [
    "## Table 3.2"
   ]
  },
  {
   "cell_type": "code",
   "execution_count": null,
   "metadata": {},
   "outputs": [],
   "source": [
    "# table 3.2\n",
    "tab32 = pd.DataFrame(\n",
    "    {\"igm\": np.concatenate((np.arange(0.1, 1.9, 0.1), np.asarray([2.0, 2.1, 2.2, 2.5, 2.7, 4.5]))),\n",
    "    \"num_of_children\": np.asarray([3,7,19,27,32,35,38,38,22,16,16,6,7,9,6,2,3,3,3,2,1,1,1,1])})\n",
    "tab32.head(5)"
   ]
  },
  {
   "cell_type": "markdown",
   "metadata": {},
   "source": [
    "## Figure 3.3"
   ]
  },
  {
   "cell_type": "code",
   "execution_count": null,
   "metadata": {},
   "outputs": [],
   "source": [
    "# figure 3.3\n",
    "sns.histplot(data=tab32, x=\"igm\", bins=np.arange(0.1, 4.6, 0.1), weights=\"num_of_children\")\n",
    "plt.title(\"Fig. 3.7. (a) Concentration of IgM in\\n298 children aged 6 months to 6 years\")\n",
    "plt.xlabel(\"IgM [g/l]\")\n",
    "plt.ylabel(\"Number of children\")\n",
    "plt.show()"
   ]
  },
  {
   "cell_type": "code",
   "execution_count": null,
   "metadata": {},
   "outputs": [],
   "source": [
    "# figure 3.10 (a)\n",
    "sns.histplot(data=tab32, x=\"igm\", bins=np.arange(0.1, 4.6, 0.1),\n",
    "weights=\"num_of_children\", cumulative=True, stat=\"probability\")\n",
    "plt.title(\"Fig. 3.10 (a). Concentration of IgM in\\n298 children aged 6 months to 6 years\")\n",
    "plt.xlabel(\"IgM [g/l]\")\n",
    "plt.ylabel(\"Cumulative frequency\")\n",
    "plt.show()"
   ]
  },
  {
   "cell_type": "code",
   "execution_count": null,
   "metadata": {},
   "outputs": [],
   "source": [
    "# figure 3.10 (b)\n",
    "sns.histplot(data=tab32, x=\"igm\", bins=np.arange(0.1, 4.6, 0.1),\n",
    "weights=\"num_of_children\", cumulative=True, \n",
    "stat=\"probability\", element=\"poly\", fill=False)\n",
    "plt.title(\"Fig. 3.10 (b). Concentration of IgM in\\n298 children aged 6 months to 6 years\")\n",
    "plt.xlabel(\"IgM [g/l]\")\n",
    "plt.ylabel(\"Cumulative frequency\")\n",
    "plt.show()"
   ]
  },
  {
   "cell_type": "code",
   "execution_count": null,
   "metadata": {},
   "outputs": [],
   "source": [
    "# there are different width age groups e.g 0-4, 25-59, > 60\n",
    "# assumed upper limit is 80\n",
    "table33 = pd.DataFrame(\n",
    "    {\"age\": [4,9,15,16,17,19,24,59,80],\n",
    "    \"frequency\": [28,46,58,20,31,64,149,316,103]})\n",
    "table33"
   ]
  },
  {
   "cell_type": "markdown",
   "metadata": {},
   "source": [
    "## figure 3.6"
   ]
  },
  {
   "cell_type": "code",
   "execution_count": null,
   "metadata": {},
   "outputs": [],
   "source": [
    "# it seems that by default sns draws histograms better than R or Julia\n",
    "sns.histplot(data=table33, x=\"age\", binwidth=5, weights=\"frequency\")\n",
    "plt.title(\"Figure 3.6. Correct histogram of road accident data of Table 3.3\")\n",
    "plt.xlabel(\"Age [years]\")\n",
    "plt.ylabel(\"Frequency\")\n",
    "plt.show()"
   ]
  }
 ],
 "metadata": {
  "kernelspec": {
   "display_name": "Python 3",
   "language": "python",
   "name": "python3"
  },
  "language_info": {
   "codemirror_mode": {
    "name": "ipython",
    "version": 3
   },
   "file_extension": ".py",
   "mimetype": "text/x-python",
   "name": "python",
   "nbconvert_exporter": "python",
   "pygments_lexer": "ipython3",
   "version": "3.8.10"
  },
  "vscode": {
   "interpreter": {
    "hash": "31f2aee4e71d21fbe5cf8b01ff0e069b9275f58929596ceb00d14d90e3e16cd6"
   }
  }
 },
 "nbformat": 4,
 "nbformat_minor": 2
}
